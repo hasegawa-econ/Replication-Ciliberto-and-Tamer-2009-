{
 "cells": [
  {
   "cell_type": "code",
   "execution_count": 1,
   "metadata": {},
   "outputs": [
    {
     "name": "stdout",
     "output_type": "stream",
     "text": [
      "Requirement already satisfied: ace_tools in /opt/anaconda3/envs/econometrics/lib/python3.12/site-packages (0.0)\n"
     ]
    }
   ],
   "source": [
    "\n",
    "import pandas as pd\n",
    "import numpy as np\n",
    "!pip install ace_tools\n",
    "import itertools\n",
    "\n",
    "from simuloop_module import simuloop_1 as simuloop\n",
    "from simuhete import simuhete\n",
    "from scipy.optimize import dual_annealing"
   ]
  },
  {
   "cell_type": "code",
   "execution_count": 3,
   "metadata": {},
   "outputs": [],
   "source": [
    "def generate_random_prob(rowX=2742, k=6):\n",
    "    num_structures = 2 ** k  # 2^k 通りの参入構造\n",
    "\n",
    "    # ランダムな非負値を生成してから、行ごとに正規化（合計1）\n",
    "    raw = np.random.rand(rowX, num_structures)\n",
    "    prob = raw / raw.sum(axis=1, keepdims=True)\n",
    "\n",
    "    return prob\n",
    "\n",
    "# 例: 使用\n",
    "prob = generate_random_prob()\n",
    "\n"
   ]
  },
  {
   "cell_type": "code",
   "execution_count": 4,
   "metadata": {},
   "outputs": [],
   "source": [
    "#誤差項の生成、一度シンプルにmarket-とfirmのみです\n",
    "epsi_firm = np.random.normal(0,4,m*k*r).reshape(m,k*r)\n",
    "epsi_market = np.random.normal(0,4,m*r).reshape(m,r)\n",
    "epsi_market = np.repeat(epsi_market, repeats=k, axis=1)\n",
    "\n",
    "epsi = epsi_firm + epsi_market"
   ]
  },
  {
   "cell_type": "code",
   "execution_count": 7,
   "metadata": {},
   "outputs": [
    {
     "ename": "KeyboardInterrupt",
     "evalue": "",
     "output_type": "error",
     "traceback": [
      "\u001b[0;31m---------------------------------------------------------------------------\u001b[0m",
      "\u001b[0;31mKeyboardInterrupt\u001b[0m                         Traceback (most recent call last)",
      "Cell \u001b[0;32mIn[7], line 52\u001b[0m\n\u001b[1;32m     48\u001b[0m df\u001b[38;5;241m.\u001b[39mto_csv(log_path, index\u001b[38;5;241m=\u001b[39m\u001b[38;5;28;01mFalse\u001b[39;00m)\n\u001b[1;32m     50\u001b[0m bounds \u001b[38;5;241m=\u001b[39m [(\u001b[38;5;241m-\u001b[39m\u001b[38;5;241m30\u001b[39m, \u001b[38;5;241m30\u001b[39m)] \u001b[38;5;241m*\u001b[39m \u001b[38;5;28mlen\u001b[39m(param0)\n\u001b[0;32m---> 52\u001b[0m result \u001b[38;5;241m=\u001b[39m dual_annealing(\n\u001b[1;32m     53\u001b[0m     simuhete,\n\u001b[1;32m     54\u001b[0m     bounds\u001b[38;5;241m=\u001b[39mbounds,\n\u001b[1;32m     55\u001b[0m     x0\u001b[38;5;241m=\u001b[39mparam0,  \u001b[38;5;66;03m# ← 初期値をここで指定\u001b[39;00m\n\u001b[1;32m     56\u001b[0m     args\u001b[38;5;241m=\u001b[39m(datairline, prob, repindex, k, r, rowX, oldresultsasa, iteration, log_path)\n\u001b[1;32m     57\u001b[0m )\n\u001b[1;32m     58\u001b[0m param \u001b[38;5;241m=\u001b[39m result\u001b[38;5;241m.\u001b[39mx\n\u001b[1;32m     59\u001b[0m fval \u001b[38;5;241m=\u001b[39m result\u001b[38;5;241m.\u001b[39mfun\n",
      "File \u001b[0;32m/opt/anaconda3/envs/econometrics/lib/python3.12/site-packages/scipy/optimize/_dual_annealing.py:699\u001b[0m, in \u001b[0;36mdual_annealing\u001b[0;34m(func, bounds, args, maxiter, minimizer_kwargs, initial_temp, restart_temp_ratio, visit, accept, maxfun, seed, no_local_search, callback, x0)\u001b[0m\n\u001b[1;32m    697\u001b[0m \u001b[38;5;66;03m# Possible local search at the end of the strategy chain\u001b[39;00m\n\u001b[1;32m    698\u001b[0m \u001b[38;5;28;01mif\u001b[39;00m \u001b[38;5;129;01mnot\u001b[39;00m no_local_search:\n\u001b[0;32m--> 699\u001b[0m     val \u001b[38;5;241m=\u001b[39m strategy_chain\u001b[38;5;241m.\u001b[39mlocal_search()\n\u001b[1;32m    700\u001b[0m     \u001b[38;5;28;01mif\u001b[39;00m val \u001b[38;5;129;01mis\u001b[39;00m \u001b[38;5;129;01mnot\u001b[39;00m \u001b[38;5;28;01mNone\u001b[39;00m:\n\u001b[1;32m    701\u001b[0m         message\u001b[38;5;241m.\u001b[39mappend(val)\n",
      "File \u001b[0;32m/opt/anaconda3/envs/econometrics/lib/python3.12/site-packages/scipy/optimize/_dual_annealing.py:324\u001b[0m, in \u001b[0;36mStrategyChain.local_search\u001b[0;34m(self)\u001b[0m\n\u001b[1;32m    317\u001b[0m \u001b[38;5;28;01mdef\u001b[39;00m \u001b[38;5;21mlocal_search\u001b[39m(\u001b[38;5;28mself\u001b[39m):\n\u001b[1;32m    318\u001b[0m     \u001b[38;5;66;03m# Decision making for performing a local search\u001b[39;00m\n\u001b[1;32m    319\u001b[0m     \u001b[38;5;66;03m# based on strategy chain results\u001b[39;00m\n\u001b[1;32m    320\u001b[0m     \u001b[38;5;66;03m# If energy has been improved or no improvement since too long,\u001b[39;00m\n\u001b[1;32m    321\u001b[0m     \u001b[38;5;66;03m# performing a local search with the best strategy chain location\u001b[39;00m\n\u001b[1;32m    322\u001b[0m     \u001b[38;5;28;01mif\u001b[39;00m \u001b[38;5;28mself\u001b[39m\u001b[38;5;241m.\u001b[39menergy_state_improved:\n\u001b[1;32m    323\u001b[0m         \u001b[38;5;66;03m# Global energy has improved, let's see if LS improves further\u001b[39;00m\n\u001b[0;32m--> 324\u001b[0m         e, x \u001b[38;5;241m=\u001b[39m \u001b[38;5;28mself\u001b[39m\u001b[38;5;241m.\u001b[39mminimizer_wrapper\u001b[38;5;241m.\u001b[39mlocal_search(\u001b[38;5;28mself\u001b[39m\u001b[38;5;241m.\u001b[39menergy_state\u001b[38;5;241m.\u001b[39mxbest,\n\u001b[1;32m    325\u001b[0m                                                    \u001b[38;5;28mself\u001b[39m\u001b[38;5;241m.\u001b[39menergy_state\u001b[38;5;241m.\u001b[39mebest)\n\u001b[1;32m    326\u001b[0m         \u001b[38;5;28;01mif\u001b[39;00m e \u001b[38;5;241m<\u001b[39m \u001b[38;5;28mself\u001b[39m\u001b[38;5;241m.\u001b[39menergy_state\u001b[38;5;241m.\u001b[39mebest:\n\u001b[1;32m    327\u001b[0m             \u001b[38;5;28mself\u001b[39m\u001b[38;5;241m.\u001b[39mnot_improved_idx \u001b[38;5;241m=\u001b[39m \u001b[38;5;241m0\u001b[39m\n",
      "File \u001b[0;32m/opt/anaconda3/envs/econometrics/lib/python3.12/site-packages/scipy/optimize/_dual_annealing.py:422\u001b[0m, in \u001b[0;36mLocalSearchWrapper.local_search\u001b[0;34m(self, x, e)\u001b[0m\n\u001b[1;32m    419\u001b[0m \u001b[38;5;28;01mdef\u001b[39;00m \u001b[38;5;21mlocal_search\u001b[39m(\u001b[38;5;28mself\u001b[39m, x, e):\n\u001b[1;32m    420\u001b[0m     \u001b[38;5;66;03m# Run local search from the given x location where energy value is e\u001b[39;00m\n\u001b[1;32m    421\u001b[0m     x_tmp \u001b[38;5;241m=\u001b[39m np\u001b[38;5;241m.\u001b[39mcopy(x)\n\u001b[0;32m--> 422\u001b[0m     mres \u001b[38;5;241m=\u001b[39m \u001b[38;5;28mself\u001b[39m\u001b[38;5;241m.\u001b[39mminimizer(\u001b[38;5;28mself\u001b[39m\u001b[38;5;241m.\u001b[39mfunc_wrapper\u001b[38;5;241m.\u001b[39mfun, x, \u001b[38;5;241m*\u001b[39m\u001b[38;5;241m*\u001b[39m\u001b[38;5;28mself\u001b[39m\u001b[38;5;241m.\u001b[39mkwargs)\n\u001b[1;32m    423\u001b[0m     \u001b[38;5;28;01mif\u001b[39;00m \u001b[38;5;124m'\u001b[39m\u001b[38;5;124mnjev\u001b[39m\u001b[38;5;124m'\u001b[39m \u001b[38;5;129;01min\u001b[39;00m mres:\n\u001b[1;32m    424\u001b[0m         \u001b[38;5;28mself\u001b[39m\u001b[38;5;241m.\u001b[39mfunc_wrapper\u001b[38;5;241m.\u001b[39mngev \u001b[38;5;241m+\u001b[39m\u001b[38;5;241m=\u001b[39m mres\u001b[38;5;241m.\u001b[39mnjev\n",
      "File \u001b[0;32m/opt/anaconda3/envs/econometrics/lib/python3.12/site-packages/scipy/optimize/_minimize.py:713\u001b[0m, in \u001b[0;36mminimize\u001b[0;34m(fun, x0, args, method, jac, hess, hessp, bounds, constraints, tol, callback, options)\u001b[0m\n\u001b[1;32m    710\u001b[0m     res \u001b[38;5;241m=\u001b[39m _minimize_newtoncg(fun, x0, args, jac, hess, hessp, callback,\n\u001b[1;32m    711\u001b[0m                              \u001b[38;5;241m*\u001b[39m\u001b[38;5;241m*\u001b[39moptions)\n\u001b[1;32m    712\u001b[0m \u001b[38;5;28;01melif\u001b[39;00m meth \u001b[38;5;241m==\u001b[39m \u001b[38;5;124m'\u001b[39m\u001b[38;5;124ml-bfgs-b\u001b[39m\u001b[38;5;124m'\u001b[39m:\n\u001b[0;32m--> 713\u001b[0m     res \u001b[38;5;241m=\u001b[39m _minimize_lbfgsb(fun, x0, args, jac, bounds,\n\u001b[1;32m    714\u001b[0m                            callback\u001b[38;5;241m=\u001b[39mcallback, \u001b[38;5;241m*\u001b[39m\u001b[38;5;241m*\u001b[39moptions)\n\u001b[1;32m    715\u001b[0m \u001b[38;5;28;01melif\u001b[39;00m meth \u001b[38;5;241m==\u001b[39m \u001b[38;5;124m'\u001b[39m\u001b[38;5;124mtnc\u001b[39m\u001b[38;5;124m'\u001b[39m:\n\u001b[1;32m    716\u001b[0m     res \u001b[38;5;241m=\u001b[39m _minimize_tnc(fun, x0, args, jac, bounds, callback\u001b[38;5;241m=\u001b[39mcallback,\n\u001b[1;32m    717\u001b[0m                         \u001b[38;5;241m*\u001b[39m\u001b[38;5;241m*\u001b[39moptions)\n",
      "File \u001b[0;32m/opt/anaconda3/envs/econometrics/lib/python3.12/site-packages/scipy/optimize/_lbfgsb_py.py:347\u001b[0m, in \u001b[0;36m_minimize_lbfgsb\u001b[0;34m(fun, x0, args, jac, bounds, disp, maxcor, ftol, gtol, eps, maxfun, maxiter, iprint, callback, maxls, finite_diff_rel_step, **unknown_options)\u001b[0m\n\u001b[1;32m    344\u001b[0m         iprint \u001b[38;5;241m=\u001b[39m disp\n\u001b[1;32m    346\u001b[0m \u001b[38;5;66;03m# _prepare_scalar_function can use bounds=None to represent no bounds\u001b[39;00m\n\u001b[0;32m--> 347\u001b[0m sf \u001b[38;5;241m=\u001b[39m _prepare_scalar_function(fun, x0, jac\u001b[38;5;241m=\u001b[39mjac, args\u001b[38;5;241m=\u001b[39margs, epsilon\u001b[38;5;241m=\u001b[39meps,\n\u001b[1;32m    348\u001b[0m                               bounds\u001b[38;5;241m=\u001b[39mbounds,\n\u001b[1;32m    349\u001b[0m                               finite_diff_rel_step\u001b[38;5;241m=\u001b[39mfinite_diff_rel_step)\n\u001b[1;32m    351\u001b[0m func_and_grad \u001b[38;5;241m=\u001b[39m sf\u001b[38;5;241m.\u001b[39mfun_and_grad\n\u001b[1;32m    353\u001b[0m fortran_int \u001b[38;5;241m=\u001b[39m _lbfgsb\u001b[38;5;241m.\u001b[39mtypes\u001b[38;5;241m.\u001b[39mintvar\u001b[38;5;241m.\u001b[39mdtype\n",
      "File \u001b[0;32m/opt/anaconda3/envs/econometrics/lib/python3.12/site-packages/scipy/optimize/_optimize.py:288\u001b[0m, in \u001b[0;36m_prepare_scalar_function\u001b[0;34m(fun, x0, jac, args, bounds, epsilon, finite_diff_rel_step, hess)\u001b[0m\n\u001b[1;32m    284\u001b[0m     bounds \u001b[38;5;241m=\u001b[39m (\u001b[38;5;241m-\u001b[39mnp\u001b[38;5;241m.\u001b[39minf, np\u001b[38;5;241m.\u001b[39minf)\n\u001b[1;32m    286\u001b[0m \u001b[38;5;66;03m# ScalarFunction caches. Reuse of fun(x) during grad\u001b[39;00m\n\u001b[1;32m    287\u001b[0m \u001b[38;5;66;03m# calculation reduces overall function evaluations.\u001b[39;00m\n\u001b[0;32m--> 288\u001b[0m sf \u001b[38;5;241m=\u001b[39m ScalarFunction(fun, x0, args, grad, hess,\n\u001b[1;32m    289\u001b[0m                     finite_diff_rel_step, bounds, epsilon\u001b[38;5;241m=\u001b[39mepsilon)\n\u001b[1;32m    291\u001b[0m \u001b[38;5;28;01mreturn\u001b[39;00m sf\n",
      "File \u001b[0;32m/opt/anaconda3/envs/econometrics/lib/python3.12/site-packages/scipy/optimize/_differentiable_functions.py:185\u001b[0m, in \u001b[0;36mScalarFunction.__init__\u001b[0;34m(self, fun, x0, args, grad, hess, finite_diff_rel_step, finite_diff_bounds, epsilon)\u001b[0m\n\u001b[1;32m    181\u001b[0m         \u001b[38;5;28mself\u001b[39m\u001b[38;5;241m.\u001b[39mg \u001b[38;5;241m=\u001b[39m approx_derivative(fun_wrapped, \u001b[38;5;28mself\u001b[39m\u001b[38;5;241m.\u001b[39mx, f0\u001b[38;5;241m=\u001b[39m\u001b[38;5;28mself\u001b[39m\u001b[38;5;241m.\u001b[39mf,\n\u001b[1;32m    182\u001b[0m                                    \u001b[38;5;241m*\u001b[39m\u001b[38;5;241m*\u001b[39mfinite_diff_options)\n\u001b[1;32m    184\u001b[0m \u001b[38;5;28mself\u001b[39m\u001b[38;5;241m.\u001b[39m_update_grad_impl \u001b[38;5;241m=\u001b[39m update_grad\n\u001b[0;32m--> 185\u001b[0m \u001b[38;5;28mself\u001b[39m\u001b[38;5;241m.\u001b[39m_update_grad()\n\u001b[1;32m    187\u001b[0m \u001b[38;5;66;03m# Hessian Evaluation\u001b[39;00m\n\u001b[1;32m    188\u001b[0m \u001b[38;5;28;01mif\u001b[39;00m \u001b[38;5;28mcallable\u001b[39m(hess):\n",
      "File \u001b[0;32m/opt/anaconda3/envs/econometrics/lib/python3.12/site-packages/scipy/optimize/_differentiable_functions.py:267\u001b[0m, in \u001b[0;36mScalarFunction._update_grad\u001b[0;34m(self)\u001b[0m\n\u001b[1;32m    265\u001b[0m \u001b[38;5;28;01mdef\u001b[39;00m \u001b[38;5;21m_update_grad\u001b[39m(\u001b[38;5;28mself\u001b[39m):\n\u001b[1;32m    266\u001b[0m     \u001b[38;5;28;01mif\u001b[39;00m \u001b[38;5;129;01mnot\u001b[39;00m \u001b[38;5;28mself\u001b[39m\u001b[38;5;241m.\u001b[39mg_updated:\n\u001b[0;32m--> 267\u001b[0m         \u001b[38;5;28mself\u001b[39m\u001b[38;5;241m.\u001b[39m_update_grad_impl()\n\u001b[1;32m    268\u001b[0m         \u001b[38;5;28mself\u001b[39m\u001b[38;5;241m.\u001b[39mg_updated \u001b[38;5;241m=\u001b[39m \u001b[38;5;28;01mTrue\u001b[39;00m\n",
      "File \u001b[0;32m/opt/anaconda3/envs/econometrics/lib/python3.12/site-packages/scipy/optimize/_differentiable_functions.py:181\u001b[0m, in \u001b[0;36mScalarFunction.__init__.<locals>.update_grad\u001b[0;34m()\u001b[0m\n\u001b[1;32m    179\u001b[0m \u001b[38;5;28mself\u001b[39m\u001b[38;5;241m.\u001b[39m_update_fun()\n\u001b[1;32m    180\u001b[0m \u001b[38;5;28mself\u001b[39m\u001b[38;5;241m.\u001b[39mngev \u001b[38;5;241m+\u001b[39m\u001b[38;5;241m=\u001b[39m \u001b[38;5;241m1\u001b[39m\n\u001b[0;32m--> 181\u001b[0m \u001b[38;5;28mself\u001b[39m\u001b[38;5;241m.\u001b[39mg \u001b[38;5;241m=\u001b[39m approx_derivative(fun_wrapped, \u001b[38;5;28mself\u001b[39m\u001b[38;5;241m.\u001b[39mx, f0\u001b[38;5;241m=\u001b[39m\u001b[38;5;28mself\u001b[39m\u001b[38;5;241m.\u001b[39mf,\n\u001b[1;32m    182\u001b[0m                            \u001b[38;5;241m*\u001b[39m\u001b[38;5;241m*\u001b[39mfinite_diff_options)\n",
      "File \u001b[0;32m/opt/anaconda3/envs/econometrics/lib/python3.12/site-packages/scipy/optimize/_numdiff.py:519\u001b[0m, in \u001b[0;36mapprox_derivative\u001b[0;34m(fun, x0, method, rel_step, abs_step, f0, bounds, sparsity, as_linear_operator, args, kwargs)\u001b[0m\n\u001b[1;32m    516\u001b[0m     use_one_sided \u001b[38;5;241m=\u001b[39m \u001b[38;5;28;01mFalse\u001b[39;00m\n\u001b[1;32m    518\u001b[0m \u001b[38;5;28;01mif\u001b[39;00m sparsity \u001b[38;5;129;01mis\u001b[39;00m \u001b[38;5;28;01mNone\u001b[39;00m:\n\u001b[0;32m--> 519\u001b[0m     \u001b[38;5;28;01mreturn\u001b[39;00m _dense_difference(fun_wrapped, x0, f0, h,\n\u001b[1;32m    520\u001b[0m                              use_one_sided, method)\n\u001b[1;32m    521\u001b[0m \u001b[38;5;28;01melse\u001b[39;00m:\n\u001b[1;32m    522\u001b[0m     \u001b[38;5;28;01mif\u001b[39;00m \u001b[38;5;129;01mnot\u001b[39;00m issparse(sparsity) \u001b[38;5;129;01mand\u001b[39;00m \u001b[38;5;28mlen\u001b[39m(sparsity) \u001b[38;5;241m==\u001b[39m \u001b[38;5;241m2\u001b[39m:\n",
      "File \u001b[0;32m/opt/anaconda3/envs/econometrics/lib/python3.12/site-packages/scipy/optimize/_numdiff.py:590\u001b[0m, in \u001b[0;36m_dense_difference\u001b[0;34m(fun, x0, f0, h, use_one_sided, method)\u001b[0m\n\u001b[1;32m    588\u001b[0m     x \u001b[38;5;241m=\u001b[39m x0 \u001b[38;5;241m+\u001b[39m h_vecs[i]\n\u001b[1;32m    589\u001b[0m     dx \u001b[38;5;241m=\u001b[39m x[i] \u001b[38;5;241m-\u001b[39m x0[i]  \u001b[38;5;66;03m# Recompute dx as exactly representable number.\u001b[39;00m\n\u001b[0;32m--> 590\u001b[0m     df \u001b[38;5;241m=\u001b[39m fun(x) \u001b[38;5;241m-\u001b[39m f0\n\u001b[1;32m    591\u001b[0m \u001b[38;5;28;01melif\u001b[39;00m method \u001b[38;5;241m==\u001b[39m \u001b[38;5;124m'\u001b[39m\u001b[38;5;124m3-point\u001b[39m\u001b[38;5;124m'\u001b[39m \u001b[38;5;129;01mand\u001b[39;00m use_one_sided[i]:\n\u001b[1;32m    592\u001b[0m     x1 \u001b[38;5;241m=\u001b[39m x0 \u001b[38;5;241m+\u001b[39m h_vecs[i]\n",
      "File \u001b[0;32m/opt/anaconda3/envs/econometrics/lib/python3.12/site-packages/scipy/optimize/_numdiff.py:470\u001b[0m, in \u001b[0;36mapprox_derivative.<locals>.fun_wrapped\u001b[0;34m(x)\u001b[0m\n\u001b[1;32m    467\u001b[0m \u001b[38;5;28;01mif\u001b[39;00m xp\u001b[38;5;241m.\u001b[39misdtype(x\u001b[38;5;241m.\u001b[39mdtype, \u001b[38;5;124m\"\u001b[39m\u001b[38;5;124mreal floating\u001b[39m\u001b[38;5;124m\"\u001b[39m):\n\u001b[1;32m    468\u001b[0m     x \u001b[38;5;241m=\u001b[39m xp\u001b[38;5;241m.\u001b[39mastype(x, x0\u001b[38;5;241m.\u001b[39mdtype)\n\u001b[0;32m--> 470\u001b[0m f \u001b[38;5;241m=\u001b[39m np\u001b[38;5;241m.\u001b[39matleast_1d(fun(x, \u001b[38;5;241m*\u001b[39margs, \u001b[38;5;241m*\u001b[39m\u001b[38;5;241m*\u001b[39mkwargs))\n\u001b[1;32m    471\u001b[0m \u001b[38;5;28;01mif\u001b[39;00m f\u001b[38;5;241m.\u001b[39mndim \u001b[38;5;241m>\u001b[39m \u001b[38;5;241m1\u001b[39m:\n\u001b[1;32m    472\u001b[0m     \u001b[38;5;28;01mraise\u001b[39;00m \u001b[38;5;167;01mRuntimeError\u001b[39;00m(\u001b[38;5;124m\"\u001b[39m\u001b[38;5;124m`fun` return value has \u001b[39m\u001b[38;5;124m\"\u001b[39m\n\u001b[1;32m    473\u001b[0m                        \u001b[38;5;124m\"\u001b[39m\u001b[38;5;124mmore than 1 dimension.\u001b[39m\u001b[38;5;124m\"\u001b[39m)\n",
      "File \u001b[0;32m/opt/anaconda3/envs/econometrics/lib/python3.12/site-packages/scipy/optimize/_differentiable_functions.py:145\u001b[0m, in \u001b[0;36mScalarFunction.__init__.<locals>.fun_wrapped\u001b[0;34m(x)\u001b[0m\n\u001b[1;32m    141\u001b[0m \u001b[38;5;28mself\u001b[39m\u001b[38;5;241m.\u001b[39mnfev \u001b[38;5;241m+\u001b[39m\u001b[38;5;241m=\u001b[39m \u001b[38;5;241m1\u001b[39m\n\u001b[1;32m    142\u001b[0m \u001b[38;5;66;03m# Send a copy because the user may overwrite it.\u001b[39;00m\n\u001b[1;32m    143\u001b[0m \u001b[38;5;66;03m# Overwriting results in undefined behaviour because\u001b[39;00m\n\u001b[1;32m    144\u001b[0m \u001b[38;5;66;03m# fun(self.x) will change self.x, with the two no longer linked.\u001b[39;00m\n\u001b[0;32m--> 145\u001b[0m fx \u001b[38;5;241m=\u001b[39m fun(np\u001b[38;5;241m.\u001b[39mcopy(x), \u001b[38;5;241m*\u001b[39margs)\n\u001b[1;32m    146\u001b[0m \u001b[38;5;66;03m# Make sure the function returns a true scalar\u001b[39;00m\n\u001b[1;32m    147\u001b[0m \u001b[38;5;28;01mif\u001b[39;00m \u001b[38;5;129;01mnot\u001b[39;00m np\u001b[38;5;241m.\u001b[39misscalar(fx):\n",
      "File \u001b[0;32m/opt/anaconda3/envs/econometrics/lib/python3.12/site-packages/scipy/optimize/_dual_annealing.py:381\u001b[0m, in \u001b[0;36mObjectiveFunWrapper.fun\u001b[0;34m(self, x)\u001b[0m\n\u001b[1;32m    379\u001b[0m \u001b[38;5;28;01mdef\u001b[39;00m \u001b[38;5;21mfun\u001b[39m(\u001b[38;5;28mself\u001b[39m, x):\n\u001b[1;32m    380\u001b[0m     \u001b[38;5;28mself\u001b[39m\u001b[38;5;241m.\u001b[39mnfev \u001b[38;5;241m+\u001b[39m\u001b[38;5;241m=\u001b[39m \u001b[38;5;241m1\u001b[39m\n\u001b[0;32m--> 381\u001b[0m     \u001b[38;5;28;01mreturn\u001b[39;00m \u001b[38;5;28mself\u001b[39m\u001b[38;5;241m.\u001b[39mfunc(x, \u001b[38;5;241m*\u001b[39m\u001b[38;5;28mself\u001b[39m\u001b[38;5;241m.\u001b[39margs)\n",
      "File \u001b[0;32m~/Desktop/replication/notebook/simuhete.py:61\u001b[0m, in \u001b[0;36msimuhete\u001b[0;34m(param, datairline, prob, repindex, k, r, rowX, oldresultsasa, iteration, log_path)\u001b[0m\n\u001b[1;32m     59\u001b[0m m\u001b[38;5;241m=\u001b[39mrowX\n\u001b[1;32m     60\u001b[0m epsi \u001b[38;5;241m=\u001b[39m np\u001b[38;5;241m.\u001b[39mrandom\u001b[38;5;241m.\u001b[39mnormal(\u001b[38;5;241m0\u001b[39m,\u001b[38;5;241m1\u001b[39m,m\u001b[38;5;241m*\u001b[39mk\u001b[38;5;241m*\u001b[39mr)\u001b[38;5;241m.\u001b[39mreshape(m,k\u001b[38;5;241m*\u001b[39mr)\n\u001b[0;32m---> 61\u001b[0m meanlow, meanupp, temp \u001b[38;5;241m=\u001b[39m simuloop(common,m,k,r,epsi,repindex)\n\u001b[1;32m     63\u001b[0m \u001b[38;5;66;03m#目的関数の算出\u001b[39;00m\n\u001b[1;32m     64\u001b[0m sand_matrix \u001b[38;5;241m=\u001b[39m np\u001b[38;5;241m.\u001b[39mwhere(\n\u001b[1;32m     65\u001b[0m     prob[:rowX, :] \u001b[38;5;241m>\u001b[39m meanupp,\n\u001b[1;32m     66\u001b[0m     (prob[:rowX, :] \u001b[38;5;241m-\u001b[39m meanupp)\u001b[38;5;241m*\u001b[39m\u001b[38;5;241m*\u001b[39m\u001b[38;5;241m2\u001b[39m,\n\u001b[0;32m   (...)\u001b[0m\n\u001b[1;32m     71\u001b[0m     \u001b[38;5;241m0\u001b[39m\n\u001b[1;32m     72\u001b[0m     )\n",
      "File \u001b[0;32m~/Desktop/replication/notebook/simuloop_module.py:62\u001b[0m, in \u001b[0;36msimuloop_1\u001b[0;34m(common, m, k, r, epsi, repindex)\u001b[0m\n\u001b[1;32m     57\u001b[0m equil \u001b[38;5;241m=\u001b[39m ((equil\u001b[38;5;241m>\u001b[39m\u001b[38;5;241m=\u001b[39m\u001b[38;5;241m0\u001b[39m)\u001b[38;5;241m.\u001b[39mastype(\u001b[38;5;28mint\u001b[39m) \u001b[38;5;241m==\u001b[39m repindex)\u001b[38;5;241m.\u001b[39mastype(\u001b[38;5;28mint\u001b[39m)\n\u001b[1;32m     59\u001b[0m \u001b[38;5;66;03m#最適反応をとっているプレイヤー数の獲得\u001b[39;00m\n\u001b[1;32m     60\u001b[0m \u001b[38;5;66;03m#それが全体のプレイヤー数と一致するならそれは均衡である。\u001b[39;00m\n\u001b[1;32m     61\u001b[0m \u001b[38;5;66;03m#vectorequilにはあるoutcomが均衡かどうかが市場ごとに入っている\u001b[39;00m\n\u001b[0;32m---> 62\u001b[0m sumequil \u001b[38;5;241m=\u001b[39m np\u001b[38;5;241m.\u001b[39msum(equil, axis\u001b[38;5;241m=\u001b[39m\u001b[38;5;241m1\u001b[39m)\n\u001b[1;32m     63\u001b[0m vectorequil \u001b[38;5;241m=\u001b[39m (sumequil \u001b[38;5;241m==\u001b[39m \u001b[38;5;241m2\u001b[39m)\u001b[38;5;241m.\u001b[39mastype(\u001b[38;5;28mint\u001b[39m)\n\u001b[1;32m     65\u001b[0m \u001b[38;5;66;03m#各市場における均衡数を獲得する。\u001b[39;00m\n\u001b[1;32m     66\u001b[0m \u001b[38;5;66;03m#助長なやり方であるが、累積和を取り、total毎にスライス、その差分を取ることで市場毎の均衡数を獲得。\u001b[39;00m\n",
      "File \u001b[0;32m/opt/anaconda3/envs/econometrics/lib/python3.12/site-packages/numpy/core/fromnumeric.py:2313\u001b[0m, in \u001b[0;36msum\u001b[0;34m(a, axis, dtype, out, keepdims, initial, where)\u001b[0m\n\u001b[1;32m   2310\u001b[0m         \u001b[38;5;28;01mreturn\u001b[39;00m out\n\u001b[1;32m   2311\u001b[0m     \u001b[38;5;28;01mreturn\u001b[39;00m res\n\u001b[0;32m-> 2313\u001b[0m \u001b[38;5;28;01mreturn\u001b[39;00m _wrapreduction(a, np\u001b[38;5;241m.\u001b[39madd, \u001b[38;5;124m'\u001b[39m\u001b[38;5;124msum\u001b[39m\u001b[38;5;124m'\u001b[39m, axis, dtype, out, keepdims\u001b[38;5;241m=\u001b[39mkeepdims,\n\u001b[1;32m   2314\u001b[0m                       initial\u001b[38;5;241m=\u001b[39minitial, where\u001b[38;5;241m=\u001b[39mwhere)\n",
      "File \u001b[0;32m/opt/anaconda3/envs/econometrics/lib/python3.12/site-packages/numpy/core/fromnumeric.py:88\u001b[0m, in \u001b[0;36m_wrapreduction\u001b[0;34m(obj, ufunc, method, axis, dtype, out, **kwargs)\u001b[0m\n\u001b[1;32m     85\u001b[0m         \u001b[38;5;28;01melse\u001b[39;00m:\n\u001b[1;32m     86\u001b[0m             \u001b[38;5;28;01mreturn\u001b[39;00m reduction(axis\u001b[38;5;241m=\u001b[39maxis, out\u001b[38;5;241m=\u001b[39mout, \u001b[38;5;241m*\u001b[39m\u001b[38;5;241m*\u001b[39mpasskwargs)\n\u001b[0;32m---> 88\u001b[0m \u001b[38;5;28;01mreturn\u001b[39;00m ufunc\u001b[38;5;241m.\u001b[39mreduce(obj, axis, dtype, out, \u001b[38;5;241m*\u001b[39m\u001b[38;5;241m*\u001b[39mpasskwargs)\n",
      "\u001b[0;31mKeyboardInterrupt\u001b[0m: "
     ]
    }
   ],
   "source": [
    "#初期値の読み込み\n",
    "param_lines = []\n",
    "with open('/Users/user/Desktop/replication/5368_data and programs_0/start_values.txt') as f:\n",
    "    sim_num = str(int(f.readline().strip()))  # 1行目：sim_num\n",
    "    for line in f:\n",
    "        param_lines.extend([float(x) for x in line.strip().split()])\n",
    "#データの読み込み\n",
    "datairline = pd.read_stata(\"/Users/user/Desktop/replication/5368_data and programs_0/CilibertoTamerEconometrica.dta\").set_index(\"market\")\n",
    "\n",
    "#企業数とシミュレーション数、outcomeの組み合わせ数を定義\n",
    "k = 6\n",
    "r = 100\n",
    "total = 2**k\n",
    "\n",
    "\n",
    "#説明変数と目的変数の獲得\n",
    "X = datairline.iloc[:, k:]\n",
    "y = datairline.iloc[:, :k] \n",
    "\n",
    "#マーケット数とカラム数の獲得          \n",
    "rowX = m = X.shape[0] \n",
    "colX  = X.shape[1]\n",
    "\n",
    "#それぞれの市場毎に全ての組み合わせを作る。\n",
    "##(0,1)^6\n",
    "index = list(itertools.product([0, 1], repeat=k))\n",
    "index = np.array(index)  \n",
    "##(0,1)^6を市場分だけ引き延ばす\n",
    "repindex = np.tile(index, (X.shape[0], 1))\n",
    "\n",
    "#CCPを持ってくる\n",
    "#prob = np.loadtxt('conddensityorder.raw')\n",
    "\n",
    "#誤差項の追加\n",
    "epsi_firm = np.random.normal(0,4,m*k*r).reshape(m,k*r)\n",
    "epsi_market = np.random.normal(0,4,m*r).reshape(m,r)\n",
    "epsi_market = np.repeat(epsi_market, repeats=k, axis=1)\n",
    "\n",
    "epsi = epsi_firm + epsi_market\n",
    "\n",
    "#シミュレーション\n",
    "iteration = 1\n",
    "param0 = np.array(param_lines)\n",
    "oldresultsasa = np.concatenate(([0, 0, iteration, r], param0))\n",
    "\n",
    "df = pd.DataFrame([oldresultsasa])\n",
    "log_path = f'oldresultsasa{sim_num}.csv'\n",
    "df.to_csv(log_path, index=False)\n",
    "\n",
    "bounds = [(-30, 30)] * len(param0)\n",
    "\n",
    "result = dual_annealing(\n",
    "    simuhete,\n",
    "    bounds=bounds,\n",
    "    x0=param0,  # ← 初期値をここで指定\n",
    "    args=(datairline, prob, repindex, k, r, rowX, oldresultsasa, iteration, log_path)\n",
    ")\n",
    "param = result.x\n",
    "fval = result.fun\n",
    "\n"
   ]
  },
  {
   "cell_type": "code",
   "execution_count": 9,
   "metadata": {},
   "outputs": [
    {
     "data": {
      "text/plain": [
       "42.139191601952895"
      ]
     },
     "execution_count": 9,
     "metadata": {},
     "output_type": "execute_result"
    }
   ],
   "source": [
    "simuhete(\n",
    "    datairline,      # データ\n",
    "    param0,          # パラメータ（例: 最適化対象）\n",
    "    prob,            # 確率行列など\n",
    "    repindex,        # リピートインデックス\n",
    "    k,               # パラメータの次元数？\n",
    "    r,               # シミュレーション回数？\n",
    "    rowX,            # 特徴量 or 入力データ\n",
    "    oldresultsasa,   # 前回の結果を格納した配列\n",
    "    iteration,       # 現在のイテレーション番号\n",
    "    log_path         # ログ出力パス\n",
    ")"
   ]
  },
  {
   "cell_type": "code",
   "execution_count": 44,
   "metadata": {},
   "outputs": [
    {
     "data": {
      "text/plain": [
       "array([  0.    ,   0.    ,   1.    , 100.    ,   1.3714,   0.5686,\n",
       "        -0.6776,   0.2736,   0.2042,   0.2962,   0.983 , -13.3598,\n",
       "        -0.3217,  12.131 ,  -0.7806,  -9.5423,  -9.0561,  -6.5715,\n",
       "       -10.2389, -15.4918, -11.9097])"
      ]
     },
     "execution_count": 44,
     "metadata": {},
     "output_type": "execute_result"
    }
   ],
   "source": [
    "oldresultsasa"
   ]
  },
  {
   "cell_type": "code",
   "execution_count": 12,
   "metadata": {},
   "outputs": [
    {
     "data": {
      "text/plain": [
       "(64, 6)"
      ]
     },
     "execution_count": 12,
     "metadata": {},
     "output_type": "execute_result"
    }
   ],
   "source": [
    "firmmarketerrs = np.loadtxt('firmmarketerrs.raw')\n",
    "\n",
    "epsi_firm = firmmarketerrs[:, :r*k]\n",
    "epsi_market = firmmarketerrs[:, r*k:r*k+r]\n",
    "epsi_market = np.kron(epsi_market, np.ones((1, k)))\n",
    "\n",
    "epsi = epsi_firm + epsi_market\n",
    "\n",
    "# 空港誤差の合算\n",
    "AirRndErr = datairline[:, k+colX:k+colX+2*r]\n",
    "epsiairport = AirRndErr[:, :r] + AirRndErr[:, r:2*r]\n",
    "epsiairport = np.kron(epsiairport, np.ones((1, k)))\n",
    "\n",
    "epsi += epsiairport"
   ]
  },
  {
   "cell_type": "code",
   "execution_count": 1085,
   "metadata": {},
   "outputs": [],
   "source": [
    "import pandas as pd\n",
    "import numpy as np\n",
    "k=6\n",
    "r=100\n",
    "\n",
    "\n",
    "datairline = pd.read_stata(\"/Users/user/Desktop/replication/5368_data and programs_0/CilibertoTamerEconometrica.dta\").set_index(\"market\")\n",
    "coldatairline = datairline.shape[1]\n",
    "X = datairline.iloc[:, k:]\n",
    "\n",
    "colX = X.shape[1]               \n",
    "y = datairline.iloc[:, :k]           \n",
    "rowX = X.shape[0] \n",
    "\n",
    "param =[-1,1,1,1,1,1,1,1,1,1,1,-3,-3,-3,-3,-3,-3]\n",
    "constant = param[0]  # 定数項\n",
    "paramX = param[1:9]      # 外生変数\n",
    "paraheterog1 = param[9]  # 異質性1\n",
    "paraheterog2 = param[10] # 異質性2\n",
    "parafirm1 = param[11:17] # 競合効果\n",
    "\n",
    "\n",
    "roleX = X.iloc[:, :8] @ paramX\n",
    "roleX = np.tile(roleX.to_numpy().reshape(-1, 1), (1, k))\n",
    "\n",
    "roleheter = X.iloc[:, 8:14].to_numpy() * paraheterog1\n",
    "roleheter += X.iloc[:, 14:20].to_numpy() * paraheterog2\n",
    "\n",
    "index = list(itertools.product([0, 1], repeat=k))\n",
    "index = np.array(index)  # ⬅️ NumPy配列に変換\n",
    "total = index.shape[0]\n",
    "\n",
    "\n",
    "onothereffect = np.zeros((total * X.shape[0], k))\n",
    "repindex = np.tile(index, (X.shape[0], 1))\n",
    "\n",
    "for i in range(k):\n",
    "    effect = repindex[:, i:i+1] * parafirm1[i]\n",
    "    effect = np.tile(effect, (1, k))\n",
    "    effect[:, i] = 0  # 自分自身の影響は除外\n",
    "    onothereffect += effect\n",
    "\n",
    "owneffect = np.ones((total, k)) * constant\n",
    "\n",
    "\n",
    "repi_roleX = np.repeat(roleX, repeats=2 ** k, axis=0)\n",
    "\n",
    "\n",
    "repi_roleheter = np.repeat(roleheter, repeats=2 ** k, axis=0)\n",
    "\n",
    "\n",
    "repi_owneffect = np.repeat(owneffect, repeats=rowX, axis=0)\n",
    "\n",
    "\n",
    "\n",
    "common = repi_owneffect + repi_roleheter + repi_owneffect\n"
   ]
  },
  {
   "cell_type": "code",
   "execution_count": 679,
   "metadata": {},
   "outputs": [],
   "source": [
    "sumupp = np.zeros((rowX, total))\n",
    "sumlow = np.zeros((rowX, total))\n",
    "\n",
    "totcount = r * np.ones((rowX, 1))\n",
    "temp = np.zeros((rowX, 1))"
   ]
  },
  {
   "cell_type": "code",
   "execution_count": 680,
   "metadata": {},
   "outputs": [],
   "source": [
    "epsitemp = np.random.normal(loc=0.0, scale=0.4, size=rowX * k).reshape(rowX, k)\n",
    "epsitemp = np.repeat(epsitemp, repeats=2 ** k, axis=0)\n",
    "epsitemp = epsitemp*repindex\n",
    "\n",
    "equil = epsitemp + common  \n",
    "equil = ((equil>=0).astype(int) == repindex).astype(int)\n",
    "sumequil = np.sum(equil, axis=1)"
   ]
  },
  {
   "cell_type": "code",
   "execution_count": 952,
   "metadata": {},
   "outputs": [],
   "source": [
    "# vectorequil.shape = (rowX * total, 1)\n",
    "cumsumvectorequil = np.cumsum(vectorequil)\n",
    "\n",
    "# 各市場の構造セットの末尾（totalごと）を取得\n",
    "sumvectorequil = cumsumvectorequil[total - 1::total].reshape(-1, 1)\n",
    "\n",
    "# 差分で「各市場ごとの均衡数」を得る\n",
    "if sumvectorequil.shape[0] > 1:\n",
    "    sumvectorequil[1:] = np.diff(sumvectorequil, axis=0)\n"
   ]
  },
  {
   "cell_type": "code",
   "execution_count": 1107,
   "metadata": {},
   "outputs": [
    {
     "data": {
      "text/plain": [
       "69.46187614097005"
      ]
     },
     "execution_count": 1116,
     "metadata": {},
     "output_type": "execute_result"
    }
   ],
   "source": [
    "r = 100\n",
    "k = 6\n",
    "\n",
    "datairline = pd.read_stata(\"/Users/user/Desktop/replication/5368_data and programs_0/CilibertoTamerEconometrica.dta\").set_index(\"market\")\n",
    "coldatairline = datairline.shape[1]\n",
    "X = datairline.iloc[:, k:]\n",
    "\n",
    "colX = X.shape[1]               \n",
    "y = datairline.iloc[:, :k]           \n",
    "rowX = X.shape[0] \n",
    "\n",
    "param =[-1,1,1,1,1,1,1,1,1,1,1,-2,-5,-5,-5,-3,-3]\n",
    "\n",
    "paraconstant = param[0]\n",
    "paramX = param[1:9]\n",
    "paraheterog1 = param[9]\n",
    "paraheterog2 = param[10]\n",
    "parafirm1 = param[11:17]\n",
    "\n",
    "roleX = X.iloc[:, :8] @ paramX\n",
    "roleX = np.tile(roleX.to_numpy().reshape(-1, 1), (1, k))\n",
    "\n",
    "roleheter = X.iloc[:, 8:14].to_numpy() * paraheterog1\n",
    "roleheter += X.iloc[:, 14:20].to_numpy() * paraheterog2\n",
    "\n",
    "index = list(itertools.product([0, 1], repeat=k))\n",
    "index = np.array(index)  # ⬅️ NumPy配列に変換\n",
    "total = index.shape[0]\n",
    "\n",
    "\n",
    "onothereffect = np.zeros((total * X.shape[0], k))\n",
    "repindex = np.tile(index, (X.shape[0], 1))\n",
    "\n",
    "for i in range(k):\n",
    "    effect = repindex[:, i:i+1] * parafirm1[i]\n",
    "    effect = np.tile(effect, (1, k))\n",
    "    effect[:, i] = 0  # 自分自身の影響は除外\n",
    "    onothereffect += effect\n",
    "\n",
    "\n",
    "owneffect = np.ones((total, k)) * constant\n",
    "\n",
    "\n",
    "repi_roleX = np.repeat(roleX, repeats=2 ** k, axis=0)\n",
    "\n",
    "\n",
    "repi_roleheter = np.repeat(roleheter, repeats=2 ** k, axis=0)\n",
    "\n",
    "\n",
    "repi_owneffect = np.repeat(owneffect, repeats=rowX, axis=0)\n",
    "\n",
    "\n",
    "\n",
    "common = repi_owneffect + repi_roleheter + onothereffect + repi_roleX\n",
    "\n",
    "\n",
    "m=rowX\n",
    "epsi = np.random.normal(0,1,m*k*r).reshape(m,k*r)\n",
    "meanlow, meanupp, temp = simuloop(common,m,k,r,epsi,repindex)\n",
    "\n",
    "sand_matrix = np.where(\n",
    "    prob[:rowX, :] > meanupp,\n",
    "    (prob[:rowX, :] - meanupp)**2,\n",
    "    0\n",
    "    ) + np.where(\n",
    "    prob[:rowX, :] < meanlow,\n",
    "    (prob[:rowX, :] - meanlow)**2,\n",
    "    0\n",
    "    )\n",
    "\n",
    "\n",
    "neverpure = np.min(np.isfinite(meanupp), axis=1)\n",
    "findneverpure = np.where(neverpure == 0)[0]\n",
    "if findneverpure.size > 0:\n",
    "    sand_matrix = np.delete(sand_matrix, findneverpure, axis=0)\n",
    "\n",
    "    # (8b) 最終的な目的関数値\n",
    "\n",
    "sand"
   ]
  },
  {
   "cell_type": "code",
   "execution_count": 1109,
   "metadata": {},
   "outputs": [
    {
     "data": {
      "text/plain": [
       "0.0"
      ]
     },
     "execution_count": 1109,
     "metadata": {},
     "output_type": "execute_result"
    }
   ],
   "source": [
    "temp"
   ]
  },
  {
   "cell_type": "code",
   "execution_count": null,
   "metadata": {},
   "outputs": [],
   "source": []
  },
  {
   "cell_type": "code",
   "execution_count": 1087,
   "metadata": {},
   "outputs": [
    {
     "data": {
      "text/plain": [
       "2712.7261549440022"
      ]
     },
     "execution_count": 1087,
     "metadata": {},
     "output_type": "execute_result"
    }
   ],
   "source": [
    "sand"
   ]
  },
  {
   "cell_type": "code",
   "execution_count": 1088,
   "metadata": {},
   "outputs": [
    {
     "data": {
      "text/plain": [
       "array([[-0.01337112, -0.16941508, -0.79899802, ..., -0.57495291,\n",
       "        -1.65754941, -1.76166082],\n",
       "       [ 0.10309189,  0.50729191,  0.02501056, ..., -2.36426709,\n",
       "        -0.88372689, -0.03261999],\n",
       "       [ 1.19242533, -0.54538449,  0.95097319, ...,  0.0913684 ,\n",
       "        -0.42829933, -1.27909086],\n",
       "       ...,\n",
       "       [-0.4325977 , -1.86133972, -0.71048022, ..., -0.13740077,\n",
       "        -0.64740327, -0.05958329],\n",
       "       [-0.86538209,  0.55569474, -0.29900997, ..., -0.82036187,\n",
       "         1.13741549,  0.79065163],\n",
       "       [ 0.3791659 , -0.13211334, -0.80367836, ..., -0.44456348,\n",
       "         0.64059484, -1.2335481 ]])"
      ]
     },
     "execution_count": 1088,
     "metadata": {},
     "output_type": "execute_result"
    }
   ],
   "source": [
    "epsi"
   ]
  },
  {
   "cell_type": "code",
   "execution_count": 1008,
   "metadata": {},
   "outputs": [
    {
     "data": {
      "text/plain": [
       "(2742, 64)"
      ]
     },
     "execution_count": 1008,
     "metadata": {},
     "output_type": "execute_result"
    }
   ],
   "source": [
    "meanupp.shape"
   ]
  },
  {
   "cell_type": "code",
   "execution_count": 1033,
   "metadata": {},
   "outputs": [],
   "source": [
    "sand_matrix = np.where(\n",
    "    prob[:rowX, :] > meanupp,\n",
    "    (prob[:rowX, :] - meanupp)**2,\n",
    "    0\n",
    "    ) + np.where(\n",
    "    prob[:rowX, :] < meanlow,\n",
    "    (prob[:rowX, :] - meanlow)**2,\n",
    "    0\n",
    "    )\n"
   ]
  },
  {
   "cell_type": "code",
   "execution_count": 1126,
   "metadata": {},
   "outputs": [
    {
     "data": {
      "text/plain": [
       "'1'"
      ]
     },
     "execution_count": 1126,
     "metadata": {},
     "output_type": "execute_result"
    }
   ],
   "source": [
    "\n",
    "\n"
   ]
  },
  {
   "cell_type": "code",
   "execution_count": 1125,
   "metadata": {},
   "outputs": [
    {
     "data": {
      "text/plain": [
       "array([  1.3714,   0.5686,  -0.6776,   0.2736,   0.2042,   0.2962,\n",
       "         0.983 , -13.3598,  -0.3217,  12.131 ,  -0.7806,  -9.5423,\n",
       "        -9.0561,  -6.5715, -10.2389, -15.4918, -11.9097])"
      ]
     },
     "execution_count": 1125,
     "metadata": {},
     "output_type": "execute_result"
    }
   ],
   "source": [
    "param0 "
   ]
  },
  {
   "cell_type": "code",
   "execution_count": 1040,
   "metadata": {},
   "outputs": [
    {
     "name": "stdout",
     "output_type": "stream",
     "text": [
      "(2742, 64)\n",
      "[0.00468551 0.00629758 0.00367664 0.012303   0.01877722 0.01240937\n",
      " 0.02003066 0.02595366 0.02319822 0.0288849  0.00346524 0.02401404\n",
      " 0.00863344 0.02753008 0.01171728 0.00719037 0.00948059 0.01799681\n",
      " 0.00423367 0.00169862 0.00240419 0.01318267 0.00371383 0.00757567\n",
      " 0.00546887 0.01389372 0.01633612 0.02135398 0.00831313 0.02342413\n",
      " 0.01779609 0.00619948 0.01803567 0.02886598 0.02190796 0.0232041\n",
      " 0.00446385 0.02197312 0.01332275 0.02314004 0.00055283 0.03036913\n",
      " 0.0290115  0.02504026 0.02648547 0.01644149 0.01067827 0.00153083\n",
      " 0.00127077 0.00976511 0.00277184 0.02037731 0.02337788 0.02778734\n",
      " 0.02359827 0.0273322  0.02223196 0.00827893 0.0098685  0.02942276\n",
      " 0.02232029 0.01524056 0.02760274 0.02189156]\n"
     ]
    }
   ],
   "source": [
    "def generate_random_prob(rowX=2742, k=6):\n",
    "    num_structures = 2 ** k  # 2^k 通りの参入構造\n",
    "\n",
    "    # ランダムな非負値を生成してから、行ごとに正規化（合計1）\n",
    "    raw = np.random.rand(rowX, num_structures)\n",
    "    prob = raw / raw.sum(axis=1, keepdims=True)\n",
    "\n",
    "    return prob\n",
    "\n",
    "# 例: 使用\n",
    "prob = generate_random_prob()\n",
    "print(prob.shape)  # (100, 8)\n",
    "print(prob[0]) "
   ]
  },
  {
   "cell_type": "code",
   "execution_count": 968,
   "metadata": {},
   "outputs": [
    {
     "data": {
      "text/plain": [
       "array([[ 6.63121708,  6.63121708],\n",
       "       [-3.36878292,  6.63121708],\n",
       "       [ 6.63121708, -3.36878292],\n",
       "       [-3.36878292, -3.36878292],\n",
       "       [37.12145717, 37.12145717],\n",
       "       [27.12145717, 37.12145717],\n",
       "       [37.12145717, 27.12145717],\n",
       "       [27.12145717, 27.12145717],\n",
       "       [16.80094832, 16.80094832],\n",
       "       [ 6.80094832, 16.80094832],\n",
       "       [16.80094832,  6.80094832],\n",
       "       [ 6.80094832,  6.80094832]])"
      ]
     },
     "execution_count": 968,
     "metadata": {},
     "output_type": "execute_result"
    }
   ],
   "source": [
    "#2*2 を考える(一変数)\n",
    "np.random.seed(42) \n",
    "X = np.random.exponential(scale=6.0, size=3,)\n",
    "\n",
    "\n",
    "index = list(itertools.product([0, 1], repeat=2))\n",
    "index = np.array(index) \n",
    "total = index.shape[0]\n",
    "\n",
    "parameter = [1,2,-10,-10]\n",
    "repindex = np.tile(index, (X.shape[0], 1))\n",
    "paramX = parameter[1]\n",
    "parafirm1 = parameter[2:4]\n",
    "constant = parameter[0]\n",
    "\n",
    "roleX = X * paramX\n",
    "roleX = np.tile(roleX.reshape(-1, 1), (1, 2))\n",
    "\n",
    "\n",
    "\n",
    "index = list(itertools.product([0, 1], repeat=2))\n",
    "index = np.array(index)  # ⬅️ NumPy配列に変換\n",
    "\n",
    "\n",
    "onothereffect = np.zeros((total * X.shape[0], 2))\n",
    "repindex = np.tile(index, (X.shape[0], 1))\n",
    "\n",
    "for i in range(2):\n",
    "    effect = repindex[:, i:i+1] * parafirm1[i]\n",
    "    effect = np.tile(effect, (1, 2))\n",
    "    effect[:, i] = 0  # 自分自身の影響は除外\n",
    "    onothereffect += effect\n",
    "\n",
    "owneffect = np.ones((total, 2)) * constant\n",
    "\n",
    "\n",
    "repi_roleX = np.repeat(roleX, repeats=2 ** 2, axis=0)\n",
    "\n",
    "\n",
    "repi_owneffect = np.repeat(owneffect, repeats=X.shape[0], axis=0)\n",
    "\n",
    "\n",
    "common = repi_roleX+repi_owneffect+onothereffect\n",
    "\n",
    "common"
   ]
  },
  {
   "cell_type": "code",
   "execution_count": 954,
   "metadata": {},
   "outputs": [
    {
     "name": "stdout",
     "output_type": "stream",
     "text": [
      "[[0 1 1 0]\n",
      " [0 0 1 0]\n",
      " [1 0 0 0]]\n",
      "[[0 1 0 0]\n",
      " [0 1 1 0]\n",
      " [0 1 0 0]]\n"
     ]
    },
    {
     "data": {
      "text/plain": [
       "(array([[0. , 0.5, 0. , 0. ],\n",
       "        [0. , 0. , 0.5, 0. ],\n",
       "        [0.5, 0.5, 0. , 0. ]]),\n",
       " array([[0. , 1. , 0.5, 0. ],\n",
       "        [0. , 0.5, 1. , 0. ],\n",
       "        [0.5, 0.5, 0. , 0. ]]))"
      ]
     },
     "execution_count": 954,
     "metadata": {},
     "output_type": "execute_result"
    }
   ],
   "source": [
    "r=2\n",
    "k= 2\n",
    "m=3\n",
    "epsi = np.random.normal(0,10,m*k*r).reshape(m,k*r)\n",
    "X = np.random.exponential(scale=6.0, size=3,)\n",
    "\n",
    "\n",
    "\n",
    "\n",
    "\n",
    "index = list(itertools.product([0, 1], repeat=2))\n",
    "index = np.array(index) \n",
    "total = index.shape[0]\n",
    "\n",
    "parameter = [1,2,-10,-10]\n",
    "repindex = np.tile(index, (X.shape[0], 1))\n",
    "paramX = parameter[1]\n",
    "parafirm1 = parameter[2:4]\n",
    "constant = parameter[0]\n",
    "\n",
    "roleX = X * paramX\n",
    "roleX = np.tile(roleX.reshape(-1, 1), (1, 2))\n",
    "\n",
    "\n",
    "\n",
    "index = list(itertools.product([0, 1], repeat=2))\n",
    "index = np.array(index)  # ⬅️ NumPy配列に変換\n",
    "\n",
    "\n",
    "onothereffect = np.zeros((total * X.shape[0], 2))\n",
    "repindex = np.tile(index, (X.shape[0], 1))\n",
    "\n",
    "\n",
    "\n",
    "for i in range(2):\n",
    "    effect = repindex[:, i:i+1] * parafirm1[i]\n",
    "    effect = np.tile(effect, (1, 2))\n",
    "    effect[:, i] = 0  # 自分自身の影響は除外\n",
    "    onothereffect += effect\n",
    "\n",
    "owneffect = np.ones((total, 2)) * constant\n",
    "\n",
    "\n",
    "repi_roleX = np.repeat(roleX, repeats=2 ** 2, axis=0)\n",
    "\n",
    "\n",
    "repi_owneffect = np.repeat(owneffect, repeats=X.shape[0], axis=0)\n",
    "\n",
    "\n",
    "common = repi_roleX+repi_owneffect+onothereffect\n",
    "\n",
    "\n",
    "sumupp = np.zeros((rowX, total))\n",
    "sumlow = np.zeros((rowX, total))\n",
    "\n",
    "totcount = r * np.ones((rowX, 1))\n",
    "temp = np.zeros((rowX, 1))\n",
    "\n",
    "\n",
    "for i in np.arange(r):\n",
    "    epsitemp = epsi[:, k * i : k * (i + 1)] \n",
    "    epsitemp = np.repeat(epsitemp, repeats=2 ** 2, axis=0)\n",
    "    equil = epsitemp + common  \n",
    "    equil = ((equil>=0).astype(int) == repindex).astype(int)\n",
    "    sumequil = np.sum(equil, axis=1)\n",
    "    vectorequil = (sumequil == 2).astype(int)\n",
    "    \n",
    "    # vectorequil.shape = (rowX * total, 1)\n",
    "    cumsumvectorequil = np.cumsum(vectorequil)\n",
    "\n",
    "    # 各市場の構造セットの末尾（totalごと）を取得\n",
    "    sumvectorequil = cumsumvectorequil[total - 1::total].reshape(-1, 1)\n",
    "\n",
    "    # 差分で「各市場ごとの均衡数」を得る\n",
    "    if sumvectorequil.shape[0] > 1:\n",
    "        sumvectorequil[1:] = np.diff(sumvectorequil, axis=0)\n",
    "    \n",
    "    upp = vectorequil.reshape(X.shape[0], total)\n",
    "    low = upp.copy()\n",
    "    lowtobezero = np.where(sumvectorequil > 1)[0]\n",
    "    # 該当する市場の行をゼロに\n",
    "    low[lowtobezero, :] = 0\n",
    "\n",
    "    upptobezero = np.where(sumvectorequil == 0)[0]\n",
    "\n",
    "    # 均衡ゼロの市場が存在する場合のみ処理\n",
    "    if upptobezero.size > 0:\n",
    "        count = (sumvectorequil == 0).astype(int).reshape(-1, 1)\n",
    "        temp += count\n",
    "        totcount -= count\n",
    "\n",
    "    sumupp += upp\n",
    "    sumlow += low\n",
    "    print(upp)\n",
    "# 平均下限と上限の計算（ブロードキャストにより行方向に割り算）\n",
    "meanlow = sumlow / totcount  # shape: (rowX, total)\n",
    "meanupp = sumupp / totcount  # shape: (rowX, total)\n",
    "\n",
    "# 均衡なし市場の割合（全シミュレーション × 市場数 で割る）\n",
    "temp = np.sum(temp) / (r * rowX)\n",
    "meanlow,meanupp"
   ]
  },
  {
   "cell_type": "code",
   "execution_count": 957,
   "metadata": {},
   "outputs": [],
   "source": [
    "# 平均下限と上限の計算（ブロードキャストにより行方向に割り算）\n",
    "meanlow = sumlow / totcount  # shape: (rowX, total)\n",
    "meanupp = sumupp / totcount  # shape: (rowX, total)\n",
    "\n",
    "# 均衡なし市場の割合（全シミュレーション × 市場数 で割る）\n",
    "temp = np.sum(temp) / (r * rowX)\n"
   ]
  },
  {
   "cell_type": "code",
   "execution_count": 958,
   "metadata": {},
   "outputs": [],
   "source": [
    "\n",
    "upp = vectorequil.reshape(X.shape[0], total)\n",
    "\n",
    "# 下限は上限のコピーで初期化\n",
    "low = upp.copy()\n",
    "\n",
    "# 複数均衡の市場インデックスを検出\n",
    "lowtobezero = np.where(sumvectorequil > 1)[0]\n",
    "\n",
    "# 該当する市場の行をゼロに\n",
    "low[lowtobezero, :] = 0"
   ]
  },
  {
   "cell_type": "code",
   "execution_count": 991,
   "metadata": {},
   "outputs": [
    {
     "data": {
      "text/plain": [
       "36"
      ]
     },
     "execution_count": 991,
     "metadata": {},
     "output_type": "execute_result"
    }
   ],
   "source": [
    "k ** 2"
   ]
  },
  {
   "cell_type": "code",
   "execution_count": 989,
   "metadata": {},
   "outputs": [
    {
     "data": {
      "text/plain": [
       "(98712, 6)"
      ]
     },
     "execution_count": 989,
     "metadata": {},
     "output_type": "execute_result"
    }
   ],
   "source": [
    "epsitemp = epsi[:, k * 0 : k * (0 + 1)] \n",
    "epsitemp = np.repeat(epsitemp, repeats=k ** 2, axis=0)\n",
    "epsitemp.shape"
   ]
  },
  {
   "cell_type": "code",
   "execution_count": 1084,
   "metadata": {},
   "outputs": [],
   "source": [
    "def simuloop(common,m,k,r,epsi,repindex):\n",
    "    total=2**k\n",
    "\n",
    "    #複数均衡数とユニークな均衡をカウントする\n",
    "    sumupp = np.zeros((m, total))\n",
    "    sumlow = np.zeros((m, total))\n",
    "\n",
    "    #上をシミュレーション回数で割ることで割合にするので作成\n",
    "    totcount = r * np.ones((m, 1))\n",
    "\n",
    "\n",
    "    #均衡が存在しないケースを考慮し、tempにその情報を保存していく（これを最終的にtotocountから引くことで割合を正当化）\n",
    "    temp = np.zeros((m, 1))\n",
    "\n",
    "    #シミュレーションの実行\n",
    "    for i in np.arange(r):\n",
    "        ##誤差項加えるパート\n",
    "        #シミレーションごとに誤差を獲得（積分）。\n",
    "        epsitemp = epsi[:, k * i : k * (i + 1)] \n",
    "        epsitemp = np.repeat(epsitemp, repeats=2 ** k, axis=0)\n",
    "        #観測できる利潤に加える\n",
    "        equil = epsitemp + common  \n",
    "\n",
    "        ##均衡を探すパート\n",
    "        #近郊では逸脱、もしくは実際のアクションが0以上なら１を取り、それ以外では0をとる。\n",
    "        #それがrepindexと一致してれば、プレイヤーが最適反応をとっているということ\n",
    "        equil = ((equil>=0).astype(int) == repindex).astype(int)\n",
    "\n",
    "        #最適反応をとっているプレイヤー数の獲得\n",
    "        #それが全体のプレイヤー数と一致するならそれは均衡である。\n",
    "        #vectorequilにはあるoutcomが均衡かどうかが市場ごとに入っている\n",
    "        sumequil = np.sum(equil, axis=1)\n",
    "        vectorequil = (sumequil == k).astype(int)\n",
    "        \n",
    "        #各市場における均衡数を獲得する。\n",
    "        #助長なやり方であるが、累積和を取り、total毎にスライス、その差分を取ることで市場毎の均衡数を獲得。\n",
    "        cumsumvectorequil = np.cumsum(vectorequil)\n",
    "        sumvectorequil = cumsumvectorequil[total - 1::total].reshape(-1, 1)\n",
    "        if sumvectorequil.shape[0] > 1:\n",
    "            sumvectorequil[1:] = np.diff(sumvectorequil, axis=0)\n",
    "        \n",
    "        #upperは複数均衡を考慮してもいいので、そのままカウントする。\n",
    "        #ただし形は(m, total)で記載していく\n",
    "        upp = vectorequil.reshape(m, total)\n",
    "\n",
    "        #lowは複数均衡が発生したらカウントできない。そのため.whereで複数均衡が存在している市場を特定し0にする\n",
    "        low = upp.copy()\n",
    "        lowtobezero = np.where(sumvectorequil > 1)[0]\n",
    "        low[lowtobezero, :] = 0\n",
    "\n",
    "        ##均衡数が０の対処\n",
    "        #存在するのであればその数だけ減らす。またtenpにカウントすることで最終的に、均衡が存在しない数を表示できる。\n",
    "        upptobezero = np.where(sumvectorequil == 0)[0]\n",
    "        if upptobezero.size > 0:\n",
    "            count = (sumvectorequil == 0).astype(int).reshape(-1, 1)\n",
    "            temp += count\n",
    "            totcount -= count\n",
    "        \n",
    "        #シミュレーション毎に加算\n",
    "        sumupp += upp\n",
    "        sumlow += low\n",
    "\n",
    "\n",
    "    # 下限確率と上限確率の計算\n",
    "    meanlow = sumlow / totcount \n",
    "    meanupp = sumupp / totcount  \n",
    "\n",
    "    # 均衡なし市場の割合\n",
    "    temp = np.sum(temp) / (r * m)\n",
    "    return meanlow , meanupp,temp"
   ]
  },
  {
   "cell_type": "code",
   "execution_count": 960,
   "metadata": {},
   "outputs": [
    {
     "data": {
      "text/plain": [
       "array([[1],\n",
       "       [2],\n",
       "       [1]])"
      ]
     },
     "execution_count": 960,
     "metadata": {},
     "output_type": "execute_result"
    }
   ],
   "source": [
    "sumvectorequil"
   ]
  },
  {
   "cell_type": "code",
   "execution_count": 961,
   "metadata": {},
   "outputs": [],
   "source": [
    "sumvectorequil = cumsumvectorequil[total - 1::total].reshape(-1, 1)\n"
   ]
  },
  {
   "cell_type": "code",
   "execution_count": 962,
   "metadata": {},
   "outputs": [],
   "source": [
    "# vectorequil.shape = (rowX * total, 1)\n",
    "cumsumvectorequil = np.cumsum(vectorequil)\n",
    "\n",
    "# 各市場の構造セットの末尾（totalごと）を取得\n",
    "sumvectorequil = cumsumvectorequil[total - 1::total].reshape(-1, 1)\n",
    "\n",
    "# 差分で「各市場ごとの均衡数」を得る\n",
    "if sumvectorequil.shape[0] > 1:\n",
    "    sumvectorequil[1:] = np.diff(sumvectorequil, axis=0)"
   ]
  },
  {
   "cell_type": "code",
   "execution_count": 785,
   "metadata": {},
   "outputs": [
    {
     "data": {
      "text/plain": [
       "array([[1, 1],\n",
       "       [1, 1],\n",
       "       [1, 1],\n",
       "       [0, 0],\n",
       "       [1, 1],\n",
       "       [1, 1],\n",
       "       [1, 1],\n",
       "       [1, 1],\n",
       "       [1, 1],\n",
       "       [1, 1],\n",
       "       [1, 1],\n",
       "       [0, 1]])"
      ]
     },
     "execution_count": 785,
     "metadata": {},
     "output_type": "execute_result"
    }
   ],
   "source": [
    "((equil>0).astype(int) == repindex).astype(int)"
   ]
  },
  {
   "cell_type": "markdown",
   "metadata": {},
   "source": []
  },
  {
   "cell_type": "code",
   "execution_count": 322,
   "metadata": {},
   "outputs": [
    {
     "name": "stdout",
     "output_type": "stream",
     "text": [
      "=== Firm-Level Summary ===\n"
     ]
    },
    {
     "data": {
      "text/html": [
       "<div>\n",
       "<style scoped>\n",
       "    .dataframe tbody tr th:only-of-type {\n",
       "        vertical-align: middle;\n",
       "    }\n",
       "\n",
       "    .dataframe tbody tr th {\n",
       "        vertical-align: top;\n",
       "    }\n",
       "\n",
       "    .dataframe thead th {\n",
       "        text-align: right;\n",
       "    }\n",
       "</style>\n",
       "<table border=\"1\" class=\"dataframe\">\n",
       "  <thead>\n",
       "    <tr style=\"text-align: right;\">\n",
       "      <th></th>\n",
       "      <th>AA</th>\n",
       "      <th>DL</th>\n",
       "      <th>UA</th>\n",
       "      <th>AL</th>\n",
       "      <th>LCC</th>\n",
       "      <th>WN</th>\n",
       "    </tr>\n",
       "    <tr>\n",
       "      <th>Variable</th>\n",
       "      <th></th>\n",
       "      <th></th>\n",
       "      <th></th>\n",
       "      <th></th>\n",
       "      <th></th>\n",
       "      <th></th>\n",
       "    </tr>\n",
       "  </thead>\n",
       "  <tbody>\n",
       "    <tr>\n",
       "      <th>entry</th>\n",
       "      <td>0.426 (0.495)</td>\n",
       "      <td>0.551 (0.497)</td>\n",
       "      <td>0.275 (0.447)</td>\n",
       "      <td>0.548 (0.498)</td>\n",
       "      <td>0.162 (0.369)</td>\n",
       "      <td>0.247 (0.431)</td>\n",
       "    </tr>\n",
       "    <tr>\n",
       "      <th>airport_presence</th>\n",
       "      <td>0.422 (0.167)</td>\n",
       "      <td>0.540 (0.181)</td>\n",
       "      <td>0.265 (0.153)</td>\n",
       "      <td>0.376 (0.135)</td>\n",
       "      <td>0.098 (0.077)</td>\n",
       "      <td>0.242 (0.176)</td>\n",
       "    </tr>\n",
       "    <tr>\n",
       "      <th>cost</th>\n",
       "      <td>0.736 (1.609)</td>\n",
       "      <td>0.420 (1.322)</td>\n",
       "      <td>0.784 (1.476)</td>\n",
       "      <td>0.229 (0.615)</td>\n",
       "      <td>0.043 (0.174)</td>\n",
       "      <td>0.303 (0.860)</td>\n",
       "    </tr>\n",
       "  </tbody>\n",
       "</table>\n",
       "</div>"
      ],
      "text/plain": [
       "                             AA             DL             UA             AL  \\\n",
       "Variable                                                                       \n",
       "entry             0.426 (0.495)  0.551 (0.497)  0.275 (0.447)  0.548 (0.498)   \n",
       "airport_presence  0.422 (0.167)  0.540 (0.181)  0.265 (0.153)  0.376 (0.135)   \n",
       "cost              0.736 (1.609)  0.420 (1.322)  0.784 (1.476)  0.229 (0.615)   \n",
       "\n",
       "                            LCC             WN  \n",
       "Variable                                        \n",
       "entry             0.162 (0.369)  0.247 (0.431)  \n",
       "airport_presence  0.098 (0.077)  0.242 (0.176)  \n",
       "cost              0.043 (0.174)  0.303 (0.860)  "
      ]
     },
     "metadata": {},
     "output_type": "display_data"
    },
    {
     "name": "stdout",
     "output_type": "stream",
     "text": [
      "\n",
      "=== Market-Level Summary ===\n"
     ]
    },
    {
     "data": {
      "text/html": [
       "<div>\n",
       "<style scoped>\n",
       "    .dataframe tbody tr th:only-of-type {\n",
       "        vertical-align: middle;\n",
       "    }\n",
       "\n",
       "    .dataframe tbody tr th {\n",
       "        vertical-align: top;\n",
       "    }\n",
       "\n",
       "    .dataframe thead th {\n",
       "        text-align: right;\n",
       "    }\n",
       "</style>\n",
       "<table border=\"1\" class=\"dataframe\">\n",
       "  <thead>\n",
       "    <tr style=\"text-align: right;\">\n",
       "      <th></th>\n",
       "      <th>Mean</th>\n",
       "      <th>Std. Dev.</th>\n",
       "    </tr>\n",
       "    <tr>\n",
       "      <th>Variable</th>\n",
       "      <th></th>\n",
       "      <th></th>\n",
       "    </tr>\n",
       "  </thead>\n",
       "  <tbody>\n",
       "    <tr>\n",
       "      <th>marketdistance</th>\n",
       "      <td>1.085</td>\n",
       "      <td>0.624</td>\n",
       "    </tr>\n",
       "    <tr>\n",
       "      <th>fromcenterdistance</th>\n",
       "      <td>1.571</td>\n",
       "      <td>0.594</td>\n",
       "    </tr>\n",
       "    <tr>\n",
       "      <th>mindistance</th>\n",
       "      <td>0.346</td>\n",
       "      <td>0.205</td>\n",
       "    </tr>\n",
       "    <tr>\n",
       "      <th>changeincmarket</th>\n",
       "      <td>4.051</td>\n",
       "      <td>1.478</td>\n",
       "    </tr>\n",
       "    <tr>\n",
       "      <th>percapitaincmarket</th>\n",
       "      <td>3.240</td>\n",
       "      <td>0.391</td>\n",
       "    </tr>\n",
       "    <tr>\n",
       "      <th>marketsize</th>\n",
       "      <td>2.259</td>\n",
       "      <td>1.846</td>\n",
       "    </tr>\n",
       "    <tr>\n",
       "      <th>wrightamendmDAL</th>\n",
       "      <td>0.030</td>\n",
       "      <td>0.169</td>\n",
       "    </tr>\n",
       "    <tr>\n",
       "      <th>dallasmarket</th>\n",
       "      <td>0.070</td>\n",
       "      <td>0.255</td>\n",
       "    </tr>\n",
       "  </tbody>\n",
       "</table>\n",
       "</div>"
      ],
      "text/plain": [
       "                     Mean  Std. Dev.\n",
       "Variable                            \n",
       "marketdistance      1.085      0.624\n",
       "fromcenterdistance  1.571      0.594\n",
       "mindistance         0.346      0.205\n",
       "changeincmarket     4.051      1.478\n",
       "percapitaincmarket  3.240      0.391\n",
       "marketsize          2.259      1.846\n",
       "wrightamendmDAL     0.030      0.169\n",
       "dallasmarket        0.070      0.255"
      ]
     },
     "metadata": {},
     "output_type": "display_data"
    }
   ],
   "source": [
    "data = pd.read_stata(\"/Users/user/Desktop/replication/5368_data and programs_0/CilibertoTamerEconometrica.dta\")\n",
    "\n",
    "#記述統計の作成\n",
    "summry = data.iloc[:,1:].agg([\"mean\",\"std\"])\n",
    "\n",
    "#企業特性の作成\n",
    "firm_specific_columns = {\n",
    "    'entry': 'airline',\n",
    "    'airport_presence': 'marketpresence',\n",
    "    'cost': 'mindistancefromhub'\n",
    "}\n",
    "\n",
    "carriers =  ['AA', 'DL', 'UA', 'AL', 'LCC', 'WN']\n",
    "firm_result = {}\n",
    "\n",
    "for label,columns in firm_specific_columns.items():\n",
    "    row = {}\n",
    "    for carrier in carriers:\n",
    "        colname = f\"{columns}{carrier}\"\n",
    "        mean = summry.at['mean', colname]\n",
    "        std = summry.at['std', colname]\n",
    "        row[carrier] = f\"{mean:.3f} ({std:.3f})\"\n",
    "    firm_result[label] = row\n",
    "\n",
    "\n",
    "firm_summary = pd.DataFrame(firm_result).T\n",
    "firm_summary.index.name = 'Variable'\n",
    "\n",
    "#市場特性\n",
    "market_vars = [\n",
    "    'marketdistance', 'fromcenterdistance',\n",
    "    'mindistance', 'changeincmarket', \n",
    "    'percapitaincmarket', 'marketsize',\n",
    "    'wrightamendmDAL', 'dallasmarket'\n",
    "]\n",
    "\n",
    "market_summary = data[market_vars].agg(['mean', 'std']).T.round(3)\n",
    "market_summary.columns = ['Mean', 'Std. Dev.']\n",
    "market_summary.index.name = 'Variable'\n",
    "\n",
    "print(\"=== Firm-Level Summary ===\")\n",
    "display(firm_summary)\n",
    "\n",
    "print(\"\\n=== Market-Level Summary ===\")\n",
    "display(market_summary)"
   ]
  },
  {
   "cell_type": "code",
   "execution_count": 331,
   "metadata": {},
   "outputs": [],
   "source": [
    "#ノンパラ推定\n",
    "\n",
    "nonepara_data = pd.DataFrame()\n",
    "# y: 6社の参入ベクトルをまとめて1つの列に\n",
    "entry_vars = ['airlineAA', 'airlineDL', 'airlineUA', 'airlineAL', 'airlineLCC', 'airlineWN']\n",
    "nonepara_data['entry_vector'] = data[entry_vars].apply(tuple, axis=1)\n",
    "\n",
    "\n",
    "# 離散化する変数(mindistancefromhubLCCだけ、0が多いのでerrorが起きるため除く)\n",
    "continue_vars = [\n",
    "    'marketdistance', 'fromcenterdistance', 'mindistance', 'changeincmarket',\n",
    "    'percapitaincmarket', 'marketsize', \n",
    "    'marketpresenceAA', 'marketpresenceDL', 'marketpresenceUA',\n",
    "    'marketpresenceAL', 'marketpresenceLCC', 'marketpresenceWN',\n",
    "    'mindistancefromhubAA', 'mindistancefromhubDL', 'mindistancefromhubUA',\n",
    "    'mindistancefromhubAL',  'mindistancefromhubWN'\n",
    "]\n",
    "\n",
    "# 離散化（4分位に分けてカテゴリ化）\n",
    "for var in continue_vars:\n",
    "    try:\n",
    "        # 分位点の bin を先に確認\n",
    "        quantile_bins = pd.qcut(data[var], q=4, retbins=True, duplicates='drop')[1]\n",
    "        num_bins = len(quantile_bins) - 1\n",
    "\n",
    "        if num_bins < 2:\n",
    "            print(f\"{var}: 分位点の数が少なすぎて離散化できません。スキップします。\")\n",
    "            continue\n",
    "\n",
    "        labels = list(range(1, num_bins + 1))\n",
    "        new_col = f\"{var}_q\"\n",
    "        nonepara_data[new_col] = pd.qcut(data[var], q=num_bins, labels=labels, duplicates='drop')\n",
    "\n",
    "    except Exception as e:\n",
    "        print(f\"{var} でエラー: {e}\")\n",
    "\n",
    "\n",
    "#mindistancefromhubLCCだけ、0が多いのでerrorが起きるため,0なら0それ以外で3分位\n",
    "is_zero = data[\"mindistancefromhubLCC\"] == 0\n",
    "non_zero_vals = data.loc[~is_zero, \"mindistancefromhubLCC\"]\n",
    "quantiles = pd.qcut(non_zero_vals, q=3, labels=[1, 2, 3], duplicates='drop')\n",
    "nonepara_data[\"mindistancefromhubLCC_q\"] = 0\n",
    "nonepara_data.loc[~is_zero,\"mindistancefromhubLCC_q\"] = quantiles \n",
    "\n",
    "#indexをmarkeにして、離散化変数を追加\n",
    "nonepara_data.index = data[\"market\"]\n",
    "nonepara_data[[\"wrightamendmDAL\",\"dallasmarket\"]] = data[[\"wrightamendmDAL\",\"dallasmarket\"]].values"
   ]
  },
  {
   "cell_type": "code",
   "execution_count": 332,
   "metadata": {},
   "outputs": [
    {
     "ename": "KeyError",
     "evalue": "'x_state'",
     "output_type": "error",
     "traceback": [
      "\u001b[0;31m---------------------------------------------------------------------------\u001b[0m",
      "\u001b[0;31mKeyError\u001b[0m                                  Traceback (most recent call last)",
      "Cell \u001b[0;32mIn[332], line 2\u001b[0m\n\u001b[1;32m      1\u001b[0m \u001b[38;5;66;03m# クロス集計: x_state × entry_vector の頻度表\u001b[39;00m\n\u001b[0;32m----> 2\u001b[0m freq_table \u001b[38;5;241m=\u001b[39m data\u001b[38;5;241m.\u001b[39mgroupby([\u001b[38;5;124m'\u001b[39m\u001b[38;5;124mx_state\u001b[39m\u001b[38;5;124m'\u001b[39m, \u001b[38;5;124m'\u001b[39m\u001b[38;5;124mentry_vector\u001b[39m\u001b[38;5;124m'\u001b[39m])\u001b[38;5;241m.\u001b[39msize()\u001b[38;5;241m.\u001b[39mreset_index(name\u001b[38;5;241m=\u001b[39m\u001b[38;5;124m'\u001b[39m\u001b[38;5;124mcount\u001b[39m\u001b[38;5;124m'\u001b[39m)\n\u001b[1;32m      4\u001b[0m \u001b[38;5;66;03m# 各 x_state における条件付き確率（割合）を計算\u001b[39;00m\n\u001b[1;32m      5\u001b[0m freq_table[\u001b[38;5;124m'\u001b[39m\u001b[38;5;124mprob\u001b[39m\u001b[38;5;124m'\u001b[39m] \u001b[38;5;241m=\u001b[39m freq_table\u001b[38;5;241m.\u001b[39mgroupby(\u001b[38;5;124m'\u001b[39m\u001b[38;5;124mx_state\u001b[39m\u001b[38;5;124m'\u001b[39m)[\u001b[38;5;124m'\u001b[39m\u001b[38;5;124mcount\u001b[39m\u001b[38;5;124m'\u001b[39m]\u001b[38;5;241m.\u001b[39mtransform(\u001b[38;5;28;01mlambda\u001b[39;00m x: x \u001b[38;5;241m/\u001b[39m x\u001b[38;5;241m.\u001b[39msum())\n",
      "File \u001b[0;32m/opt/anaconda3/envs/econometrics/lib/python3.12/site-packages/pandas/core/frame.py:9183\u001b[0m, in \u001b[0;36mDataFrame.groupby\u001b[0;34m(self, by, axis, level, as_index, sort, group_keys, observed, dropna)\u001b[0m\n\u001b[1;32m   9180\u001b[0m \u001b[38;5;28;01mif\u001b[39;00m level \u001b[38;5;129;01mis\u001b[39;00m \u001b[38;5;28;01mNone\u001b[39;00m \u001b[38;5;129;01mand\u001b[39;00m by \u001b[38;5;129;01mis\u001b[39;00m \u001b[38;5;28;01mNone\u001b[39;00m:\n\u001b[1;32m   9181\u001b[0m     \u001b[38;5;28;01mraise\u001b[39;00m \u001b[38;5;167;01mTypeError\u001b[39;00m(\u001b[38;5;124m\"\u001b[39m\u001b[38;5;124mYou have to supply one of \u001b[39m\u001b[38;5;124m'\u001b[39m\u001b[38;5;124mby\u001b[39m\u001b[38;5;124m'\u001b[39m\u001b[38;5;124m and \u001b[39m\u001b[38;5;124m'\u001b[39m\u001b[38;5;124mlevel\u001b[39m\u001b[38;5;124m'\u001b[39m\u001b[38;5;124m\"\u001b[39m)\n\u001b[0;32m-> 9183\u001b[0m \u001b[38;5;28;01mreturn\u001b[39;00m DataFrameGroupBy(\n\u001b[1;32m   9184\u001b[0m     obj\u001b[38;5;241m=\u001b[39m\u001b[38;5;28mself\u001b[39m,\n\u001b[1;32m   9185\u001b[0m     keys\u001b[38;5;241m=\u001b[39mby,\n\u001b[1;32m   9186\u001b[0m     axis\u001b[38;5;241m=\u001b[39maxis,\n\u001b[1;32m   9187\u001b[0m     level\u001b[38;5;241m=\u001b[39mlevel,\n\u001b[1;32m   9188\u001b[0m     as_index\u001b[38;5;241m=\u001b[39mas_index,\n\u001b[1;32m   9189\u001b[0m     sort\u001b[38;5;241m=\u001b[39msort,\n\u001b[1;32m   9190\u001b[0m     group_keys\u001b[38;5;241m=\u001b[39mgroup_keys,\n\u001b[1;32m   9191\u001b[0m     observed\u001b[38;5;241m=\u001b[39mobserved,\n\u001b[1;32m   9192\u001b[0m     dropna\u001b[38;5;241m=\u001b[39mdropna,\n\u001b[1;32m   9193\u001b[0m )\n",
      "File \u001b[0;32m/opt/anaconda3/envs/econometrics/lib/python3.12/site-packages/pandas/core/groupby/groupby.py:1329\u001b[0m, in \u001b[0;36mGroupBy.__init__\u001b[0;34m(self, obj, keys, axis, level, grouper, exclusions, selection, as_index, sort, group_keys, observed, dropna)\u001b[0m\n\u001b[1;32m   1326\u001b[0m \u001b[38;5;28mself\u001b[39m\u001b[38;5;241m.\u001b[39mdropna \u001b[38;5;241m=\u001b[39m dropna\n\u001b[1;32m   1328\u001b[0m \u001b[38;5;28;01mif\u001b[39;00m grouper \u001b[38;5;129;01mis\u001b[39;00m \u001b[38;5;28;01mNone\u001b[39;00m:\n\u001b[0;32m-> 1329\u001b[0m     grouper, exclusions, obj \u001b[38;5;241m=\u001b[39m get_grouper(\n\u001b[1;32m   1330\u001b[0m         obj,\n\u001b[1;32m   1331\u001b[0m         keys,\n\u001b[1;32m   1332\u001b[0m         axis\u001b[38;5;241m=\u001b[39maxis,\n\u001b[1;32m   1333\u001b[0m         level\u001b[38;5;241m=\u001b[39mlevel,\n\u001b[1;32m   1334\u001b[0m         sort\u001b[38;5;241m=\u001b[39msort,\n\u001b[1;32m   1335\u001b[0m         observed\u001b[38;5;241m=\u001b[39m\u001b[38;5;28;01mFalse\u001b[39;00m \u001b[38;5;28;01mif\u001b[39;00m observed \u001b[38;5;129;01mis\u001b[39;00m lib\u001b[38;5;241m.\u001b[39mno_default \u001b[38;5;28;01melse\u001b[39;00m observed,\n\u001b[1;32m   1336\u001b[0m         dropna\u001b[38;5;241m=\u001b[39m\u001b[38;5;28mself\u001b[39m\u001b[38;5;241m.\u001b[39mdropna,\n\u001b[1;32m   1337\u001b[0m     )\n\u001b[1;32m   1339\u001b[0m \u001b[38;5;28;01mif\u001b[39;00m observed \u001b[38;5;129;01mis\u001b[39;00m lib\u001b[38;5;241m.\u001b[39mno_default:\n\u001b[1;32m   1340\u001b[0m     \u001b[38;5;28;01mif\u001b[39;00m \u001b[38;5;28many\u001b[39m(ping\u001b[38;5;241m.\u001b[39m_passed_categorical \u001b[38;5;28;01mfor\u001b[39;00m ping \u001b[38;5;129;01min\u001b[39;00m grouper\u001b[38;5;241m.\u001b[39mgroupings):\n",
      "File \u001b[0;32m/opt/anaconda3/envs/econometrics/lib/python3.12/site-packages/pandas/core/groupby/grouper.py:1043\u001b[0m, in \u001b[0;36mget_grouper\u001b[0;34m(obj, key, axis, level, sort, observed, validate, dropna)\u001b[0m\n\u001b[1;32m   1041\u001b[0m         in_axis, level, gpr \u001b[38;5;241m=\u001b[39m \u001b[38;5;28;01mFalse\u001b[39;00m, gpr, \u001b[38;5;28;01mNone\u001b[39;00m\n\u001b[1;32m   1042\u001b[0m     \u001b[38;5;28;01melse\u001b[39;00m:\n\u001b[0;32m-> 1043\u001b[0m         \u001b[38;5;28;01mraise\u001b[39;00m \u001b[38;5;167;01mKeyError\u001b[39;00m(gpr)\n\u001b[1;32m   1044\u001b[0m \u001b[38;5;28;01melif\u001b[39;00m \u001b[38;5;28misinstance\u001b[39m(gpr, Grouper) \u001b[38;5;129;01mand\u001b[39;00m gpr\u001b[38;5;241m.\u001b[39mkey \u001b[38;5;129;01mis\u001b[39;00m \u001b[38;5;129;01mnot\u001b[39;00m \u001b[38;5;28;01mNone\u001b[39;00m:\n\u001b[1;32m   1045\u001b[0m     \u001b[38;5;66;03m# Add key to exclusions\u001b[39;00m\n\u001b[1;32m   1046\u001b[0m     exclusions\u001b[38;5;241m.\u001b[39madd(gpr\u001b[38;5;241m.\u001b[39mkey)\n",
      "\u001b[0;31mKeyError\u001b[0m: 'x_state'"
     ]
    }
   ],
   "source": [
    "# クロス集計: x_state × entry_vector の頻度表\n",
    "freq_table = data.groupby(['x_state', 'entry_vector']).size().reset_index(name='count')\n",
    "\n",
    "# 各 x_state における条件付き確率（割合）を計算\n",
    "freq_table['prob'] = freq_table.groupby('x_state')['count'].transform(lambda x: x / x.sum())\n"
   ]
  }
 ],
 "metadata": {
  "kernelspec": {
   "display_name": "econometrics",
   "language": "python",
   "name": "python3"
  },
  "language_info": {
   "codemirror_mode": {
    "name": "ipython",
    "version": 3
   },
   "file_extension": ".py",
   "mimetype": "text/x-python",
   "name": "python",
   "nbconvert_exporter": "python",
   "pygments_lexer": "ipython3",
   "version": "3.12.7"
  }
 },
 "nbformat": 4,
 "nbformat_minor": 2
}
